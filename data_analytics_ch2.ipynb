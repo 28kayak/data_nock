{
 "cells": [
  {
   "cell_type": "markdown",
   "id": "3e88b333-0093-4886-859e-485f5860f3a2",
   "metadata": {},
   "source": [
    "# CH2: データを可視化し分析を行う\n",
    "File\n",
    "| No |  File Name|  |\n",
    "|---|---|---|\n",
    "| 1|  order_data.csv | output from ch1 | \n"
   ]
  },
  {
   "cell_type": "markdown",
   "id": "a218ff1e-7a08-4817-8927-e4dd697333fc",
   "metadata": {},
   "source": [
    "## Nock11: データを読んで不要なものを削除する"
   ]
  },
  {
   "cell_type": "code",
   "execution_count": 8,
   "id": "b35acc24-701a-475d-97b5-7ebcf2a56ad6",
   "metadata": {},
   "outputs": [
    {
     "name": "stdout",
     "output_type": "stream",
     "text": [
      "703880\n"
     ]
    },
    {
     "data": {
      "text/html": [
       "<div>\n",
       "<style scoped>\n",
       "    .dataframe tbody tr th:only-of-type {\n",
       "        vertical-align: middle;\n",
       "    }\n",
       "\n",
       "    .dataframe tbody tr th {\n",
       "        vertical-align: top;\n",
       "    }\n",
       "\n",
       "    .dataframe thead th {\n",
       "        text-align: right;\n",
       "    }\n",
       "</style>\n",
       "<table border=\"1\" class=\"dataframe\">\n",
       "  <thead>\n",
       "    <tr style=\"text-align: right;\">\n",
       "      <th></th>\n",
       "      <th>order_id</th>\n",
       "      <th>store_id</th>\n",
       "      <th>customer_id</th>\n",
       "      <th>coupon_cd</th>\n",
       "      <th>sales_detail_id</th>\n",
       "      <th>order_accept_date</th>\n",
       "      <th>delivered_date</th>\n",
       "      <th>takeout_flag</th>\n",
       "      <th>total_amount</th>\n",
       "      <th>status</th>\n",
       "      <th>store_name</th>\n",
       "      <th>area_cd</th>\n",
       "      <th>wide_area</th>\n",
       "      <th>narrow_area</th>\n",
       "      <th>takeout_name</th>\n",
       "      <th>status_name</th>\n",
       "    </tr>\n",
       "  </thead>\n",
       "  <tbody>\n",
       "    <tr>\n",
       "      <th>0</th>\n",
       "      <td>79339111</td>\n",
       "      <td>49</td>\n",
       "      <td>C26387220</td>\n",
       "      <td>50</td>\n",
       "      <td>67393872</td>\n",
       "      <td>2020-04-01 11:00:00</td>\n",
       "      <td>2020-04-01 11:18:00</td>\n",
       "      <td>1</td>\n",
       "      <td>4144</td>\n",
       "      <td>1</td>\n",
       "      <td>浅草店</td>\n",
       "      <td>TK</td>\n",
       "      <td>東京</td>\n",
       "      <td>東京</td>\n",
       "      <td>お持ち帰り</td>\n",
       "      <td>お支払済</td>\n",
       "    </tr>\n",
       "    <tr>\n",
       "      <th>1</th>\n",
       "      <td>18941733</td>\n",
       "      <td>85</td>\n",
       "      <td>C48773811</td>\n",
       "      <td>26</td>\n",
       "      <td>91834983</td>\n",
       "      <td>2020-04-01 11:00:00</td>\n",
       "      <td>2020-04-01 11:22:00</td>\n",
       "      <td>0</td>\n",
       "      <td>2877</td>\n",
       "      <td>2</td>\n",
       "      <td>目黒店</td>\n",
       "      <td>TK</td>\n",
       "      <td>東京</td>\n",
       "      <td>東京</td>\n",
       "      <td>デリバリー</td>\n",
       "      <td>お渡し済</td>\n",
       "    </tr>\n",
       "    <tr>\n",
       "      <th>2</th>\n",
       "      <td>56217880</td>\n",
       "      <td>76</td>\n",
       "      <td>C66287421</td>\n",
       "      <td>36</td>\n",
       "      <td>64409634</td>\n",
       "      <td>2020-04-01 11:00:00</td>\n",
       "      <td>2020-04-01 11:15:00</td>\n",
       "      <td>0</td>\n",
       "      <td>2603</td>\n",
       "      <td>2</td>\n",
       "      <td>本郷店</td>\n",
       "      <td>TK</td>\n",
       "      <td>東京</td>\n",
       "      <td>東京</td>\n",
       "      <td>デリバリー</td>\n",
       "      <td>お渡し済</td>\n",
       "    </tr>\n",
       "    <tr>\n",
       "      <th>3</th>\n",
       "      <td>28447783</td>\n",
       "      <td>190</td>\n",
       "      <td>C41156423</td>\n",
       "      <td>19</td>\n",
       "      <td>73032165</td>\n",
       "      <td>2020-04-01 11:00:00</td>\n",
       "      <td>2020-04-01 11:16:00</td>\n",
       "      <td>0</td>\n",
       "      <td>2732</td>\n",
       "      <td>2</td>\n",
       "      <td>栃木店</td>\n",
       "      <td>TO</td>\n",
       "      <td>北関東</td>\n",
       "      <td>栃木</td>\n",
       "      <td>デリバリー</td>\n",
       "      <td>お渡し済</td>\n",
       "    </tr>\n",
       "    <tr>\n",
       "      <th>4</th>\n",
       "      <td>32576156</td>\n",
       "      <td>191</td>\n",
       "      <td>C54568117</td>\n",
       "      <td>71</td>\n",
       "      <td>23281182</td>\n",
       "      <td>2020-04-01 11:00:00</td>\n",
       "      <td>2020-04-01 11:53:00</td>\n",
       "      <td>0</td>\n",
       "      <td>2987</td>\n",
       "      <td>2</td>\n",
       "      <td>伊勢崎店</td>\n",
       "      <td>GU</td>\n",
       "      <td>北関東</td>\n",
       "      <td>群馬</td>\n",
       "      <td>デリバリー</td>\n",
       "      <td>お渡し済</td>\n",
       "    </tr>\n",
       "  </tbody>\n",
       "</table>\n",
       "</div>"
      ],
      "text/plain": [
       "   order_id  store_id customer_id  coupon_cd  sales_detail_id  \\\n",
       "0  79339111        49   C26387220         50         67393872   \n",
       "1  18941733        85   C48773811         26         91834983   \n",
       "2  56217880        76   C66287421         36         64409634   \n",
       "3  28447783       190   C41156423         19         73032165   \n",
       "4  32576156       191   C54568117         71         23281182   \n",
       "\n",
       "     order_accept_date       delivered_date  takeout_flag  total_amount  \\\n",
       "0  2020-04-01 11:00:00  2020-04-01 11:18:00             1          4144   \n",
       "1  2020-04-01 11:00:00  2020-04-01 11:22:00             0          2877   \n",
       "2  2020-04-01 11:00:00  2020-04-01 11:15:00             0          2603   \n",
       "3  2020-04-01 11:00:00  2020-04-01 11:16:00             0          2732   \n",
       "4  2020-04-01 11:00:00  2020-04-01 11:53:00             0          2987   \n",
       "\n",
       "   status store_name area_cd wide_area narrow_area takeout_name status_name  \n",
       "0       1        浅草店      TK        東京          東京        お持ち帰り        お支払済  \n",
       "1       2        目黒店      TK        東京          東京        デリバリー        お渡し済  \n",
       "2       2        本郷店      TK        東京          東京        デリバリー        お渡し済  \n",
       "3       2        栃木店      TO       北関東          栃木        デリバリー        お渡し済  \n",
       "4       2       伊勢崎店      GU       北関東          群馬        デリバリー        お渡し済  "
      ]
     },
     "execution_count": 8,
     "metadata": {},
     "output_type": "execute_result"
    }
   ],
   "source": [
    "import pandas as pd\n",
    "order_data = pd.read_csv('data/ch2/order_data.csv')\n",
    "print(len(order_data))\n",
    "order_data.head()"
   ]
  },
  {
   "cell_type": "code",
   "execution_count": 9,
   "id": "d11cd8df-73ca-45dd-a69e-0fac9a431545",
   "metadata": {},
   "outputs": [
    {
     "name": "stdout",
     "output_type": "stream",
     "text": [
      "574436\n"
     ]
    },
    {
     "data": {
      "text/plain": [
       "Index(['order_id', 'store_id', 'customer_id', 'coupon_cd', 'sales_detail_id',\n",
       "       'order_accept_date', 'delivered_date', 'takeout_flag', 'total_amount',\n",
       "       'status', 'store_name', 'area_cd', 'wide_area', 'narrow_area',\n",
       "       'takeout_name', 'status_name'],\n",
       "      dtype='object')"
      ]
     },
     "execution_count": 9,
     "metadata": {},
     "output_type": "execute_result"
    }
   ],
   "source": [
    "# filter status=1 or status=2 \n",
    "order_data = order_data.loc[(order_data['status'] == 1)| (order_data['status'] ==2)]\n",
    "print(len(order_data))\n",
    "order_data.columns"
   ]
  },
  {
   "cell_type": "code",
   "execution_count": 12,
   "id": "0dae1db5-23d2-4c74-9719-8d1dfe4e7eab",
   "metadata": {},
   "outputs": [
    {
     "name": "stdout",
     "output_type": "stream",
     "text": [
      "(574436, 11)\n"
     ]
    },
    {
     "data": {
      "text/html": [
       "<div>\n",
       "<style scoped>\n",
       "    .dataframe tbody tr th:only-of-type {\n",
       "        vertical-align: middle;\n",
       "    }\n",
       "\n",
       "    .dataframe tbody tr th {\n",
       "        vertical-align: top;\n",
       "    }\n",
       "\n",
       "    .dataframe thead th {\n",
       "        text-align: right;\n",
       "    }\n",
       "</style>\n",
       "<table border=\"1\" class=\"dataframe\">\n",
       "  <thead>\n",
       "    <tr style=\"text-align: right;\">\n",
       "      <th></th>\n",
       "      <th>store_id</th>\n",
       "      <th>customer_id</th>\n",
       "      <th>coupon_cd</th>\n",
       "      <th>order_accept_date</th>\n",
       "      <th>delivered_date</th>\n",
       "      <th>total_amount</th>\n",
       "      <th>store_name</th>\n",
       "      <th>wide_area</th>\n",
       "      <th>narrow_area</th>\n",
       "      <th>takeout_name</th>\n",
       "      <th>status_name</th>\n",
       "    </tr>\n",
       "  </thead>\n",
       "  <tbody>\n",
       "    <tr>\n",
       "      <th>0</th>\n",
       "      <td>49</td>\n",
       "      <td>C26387220</td>\n",
       "      <td>50</td>\n",
       "      <td>2020-04-01 11:00:00</td>\n",
       "      <td>2020-04-01 11:18:00</td>\n",
       "      <td>4144</td>\n",
       "      <td>浅草店</td>\n",
       "      <td>東京</td>\n",
       "      <td>東京</td>\n",
       "      <td>お持ち帰り</td>\n",
       "      <td>お支払済</td>\n",
       "    </tr>\n",
       "    <tr>\n",
       "      <th>1</th>\n",
       "      <td>85</td>\n",
       "      <td>C48773811</td>\n",
       "      <td>26</td>\n",
       "      <td>2020-04-01 11:00:00</td>\n",
       "      <td>2020-04-01 11:22:00</td>\n",
       "      <td>2877</td>\n",
       "      <td>目黒店</td>\n",
       "      <td>東京</td>\n",
       "      <td>東京</td>\n",
       "      <td>デリバリー</td>\n",
       "      <td>お渡し済</td>\n",
       "    </tr>\n",
       "    <tr>\n",
       "      <th>2</th>\n",
       "      <td>76</td>\n",
       "      <td>C66287421</td>\n",
       "      <td>36</td>\n",
       "      <td>2020-04-01 11:00:00</td>\n",
       "      <td>2020-04-01 11:15:00</td>\n",
       "      <td>2603</td>\n",
       "      <td>本郷店</td>\n",
       "      <td>東京</td>\n",
       "      <td>東京</td>\n",
       "      <td>デリバリー</td>\n",
       "      <td>お渡し済</td>\n",
       "    </tr>\n",
       "    <tr>\n",
       "      <th>3</th>\n",
       "      <td>190</td>\n",
       "      <td>C41156423</td>\n",
       "      <td>19</td>\n",
       "      <td>2020-04-01 11:00:00</td>\n",
       "      <td>2020-04-01 11:16:00</td>\n",
       "      <td>2732</td>\n",
       "      <td>栃木店</td>\n",
       "      <td>北関東</td>\n",
       "      <td>栃木</td>\n",
       "      <td>デリバリー</td>\n",
       "      <td>お渡し済</td>\n",
       "    </tr>\n",
       "    <tr>\n",
       "      <th>4</th>\n",
       "      <td>191</td>\n",
       "      <td>C54568117</td>\n",
       "      <td>71</td>\n",
       "      <td>2020-04-01 11:00:00</td>\n",
       "      <td>2020-04-01 11:53:00</td>\n",
       "      <td>2987</td>\n",
       "      <td>伊勢崎店</td>\n",
       "      <td>北関東</td>\n",
       "      <td>群馬</td>\n",
       "      <td>デリバリー</td>\n",
       "      <td>お渡し済</td>\n",
       "    </tr>\n",
       "  </tbody>\n",
       "</table>\n",
       "</div>"
      ],
      "text/plain": [
       "   store_id customer_id  coupon_cd    order_accept_date       delivered_date  \\\n",
       "0        49   C26387220         50  2020-04-01 11:00:00  2020-04-01 11:18:00   \n",
       "1        85   C48773811         26  2020-04-01 11:00:00  2020-04-01 11:22:00   \n",
       "2        76   C66287421         36  2020-04-01 11:00:00  2020-04-01 11:15:00   \n",
       "3       190   C41156423         19  2020-04-01 11:00:00  2020-04-01 11:16:00   \n",
       "4       191   C54568117         71  2020-04-01 11:00:00  2020-04-01 11:53:00   \n",
       "\n",
       "   total_amount store_name wide_area narrow_area takeout_name status_name  \n",
       "0          4144        浅草店        東京          東京        お持ち帰り        お支払済  \n",
       "1          2877        目黒店        東京          東京        デリバリー        お渡し済  \n",
       "2          2603        本郷店        東京          東京        デリバリー        お渡し済  \n",
       "3          2732        栃木店       北関東          栃木        デリバリー        お渡し済  \n",
       "4          2987       伊勢崎店       北関東          群馬        デリバリー        お渡し済  "
      ]
     },
     "execution_count": 12,
     "metadata": {},
     "output_type": "execute_result"
    }
   ],
   "source": [
    "analyze_data = order_data[[\n",
    "'store_id','customer_id','coupon_cd','order_accept_date', \n",
    "'delivered_date','total_amount','store_name','wide_area',\n",
    "'narrow_area','takeout_name', 'status_name'\n",
    "]]\n",
    "print(analyze_data.shape)\n",
    "analyze_data.head()"
   ]
  },
  {
   "cell_type": "code",
   "execution_count": 13,
   "id": "1245a9e3-202d-4bd1-99f7-d57c04ae987d",
   "metadata": {},
   "outputs": [
    {
     "data": {
      "text/html": [
       "<div>\n",
       "<style scoped>\n",
       "    .dataframe tbody tr th:only-of-type {\n",
       "        vertical-align: middle;\n",
       "    }\n",
       "\n",
       "    .dataframe tbody tr th {\n",
       "        vertical-align: top;\n",
       "    }\n",
       "\n",
       "    .dataframe thead th {\n",
       "        text-align: right;\n",
       "    }\n",
       "</style>\n",
       "<table border=\"1\" class=\"dataframe\">\n",
       "  <thead>\n",
       "    <tr style=\"text-align: right;\">\n",
       "      <th></th>\n",
       "      <th>store_id</th>\n",
       "      <th>coupon_cd</th>\n",
       "      <th>total_amount</th>\n",
       "    </tr>\n",
       "  </thead>\n",
       "  <tbody>\n",
       "    <tr>\n",
       "      <th>count</th>\n",
       "      <td>574436.000000</td>\n",
       "      <td>574436.000000</td>\n",
       "      <td>574436.000000</td>\n",
       "    </tr>\n",
       "    <tr>\n",
       "      <th>mean</th>\n",
       "      <td>99.113844</td>\n",
       "      <td>49.478758</td>\n",
       "      <td>2960.087555</td>\n",
       "    </tr>\n",
       "    <tr>\n",
       "      <th>std</th>\n",
       "      <td>55.913615</td>\n",
       "      <td>28.888993</td>\n",
       "      <td>954.282731</td>\n",
       "    </tr>\n",
       "    <tr>\n",
       "      <th>min</th>\n",
       "      <td>1.000000</td>\n",
       "      <td>0.000000</td>\n",
       "      <td>698.000000</td>\n",
       "    </tr>\n",
       "    <tr>\n",
       "      <th>25%</th>\n",
       "      <td>51.000000</td>\n",
       "      <td>24.000000</td>\n",
       "      <td>2308.000000</td>\n",
       "    </tr>\n",
       "    <tr>\n",
       "      <th>50%</th>\n",
       "      <td>99.000000</td>\n",
       "      <td>49.000000</td>\n",
       "      <td>2808.000000</td>\n",
       "    </tr>\n",
       "    <tr>\n",
       "      <th>75%</th>\n",
       "      <td>147.000000</td>\n",
       "      <td>75.000000</td>\n",
       "      <td>3617.000000</td>\n",
       "    </tr>\n",
       "    <tr>\n",
       "      <th>max</th>\n",
       "      <td>196.000000</td>\n",
       "      <td>99.000000</td>\n",
       "      <td>5100.000000</td>\n",
       "    </tr>\n",
       "  </tbody>\n",
       "</table>\n",
       "</div>"
      ],
      "text/plain": [
       "            store_id      coupon_cd   total_amount\n",
       "count  574436.000000  574436.000000  574436.000000\n",
       "mean       99.113844      49.478758    2960.087555\n",
       "std        55.913615      28.888993     954.282731\n",
       "min         1.000000       0.000000     698.000000\n",
       "25%        51.000000      24.000000    2308.000000\n",
       "50%        99.000000      49.000000    2808.000000\n",
       "75%       147.000000      75.000000    3617.000000\n",
       "max       196.000000      99.000000    5100.000000"
      ]
     },
     "execution_count": 13,
     "metadata": {},
     "output_type": "execute_result"
    }
   ],
   "source": [
    "analyze_data.describe()"
   ]
  },
  {
   "cell_type": "code",
   "execution_count": 15,
   "id": "0186d1ba-2968-4f4f-8763-f91a60482531",
   "metadata": {},
   "outputs": [
    {
     "data": {
      "text/plain": [
       "store_id              int64\n",
       "customer_id          object\n",
       "coupon_cd             int64\n",
       "order_accept_date    object\n",
       "delivered_date       object\n",
       "total_amount          int64\n",
       "store_name           object\n",
       "wide_area            object\n",
       "narrow_area          object\n",
       "takeout_name         object\n",
       "status_name          object\n",
       "dtype: object"
      ]
     },
     "execution_count": 15,
     "metadata": {},
     "output_type": "execute_result"
    }
   ],
   "source": [
    "analyze_data.dtypes"
   ]
  },
  {
   "cell_type": "code",
   "execution_count": 18,
   "id": "162e0a7e-9005-45cb-acc0-278225b80996",
   "metadata": {},
   "outputs": [
    {
     "data": {
      "text/plain": [
       "store_id             object\n",
       "customer_id          object\n",
       "coupon_cd            object\n",
       "order_accept_date    object\n",
       "delivered_date       object\n",
       "total_amount          int64\n",
       "store_name           object\n",
       "wide_area            object\n",
       "narrow_area          object\n",
       "takeout_name         object\n",
       "status_name          object\n",
       "dtype: object"
      ]
     },
     "execution_count": 18,
     "metadata": {},
     "output_type": "execute_result"
    }
   ],
   "source": [
    "#change store_id and coupon_cd datatype to string\n",
    "# can ignore warnings by adding the following two lines\n",
    "import warnings \n",
    "warnings.filterwarnings('ignore')\n",
    "\n",
    "analyze_data[['store_id', 'coupon_cd']] = analyze_data[['store_id', 'coupon_cd']].astype(str)\n",
    "analyze_data.dtypes"
   ]
  },
  {
   "cell_type": "code",
   "execution_count": 19,
   "id": "a203843e-7ffc-4a86-a845-74964191135e",
   "metadata": {},
   "outputs": [
    {
     "data": {
      "text/html": [
       "<div>\n",
       "<style scoped>\n",
       "    .dataframe tbody tr th:only-of-type {\n",
       "        vertical-align: middle;\n",
       "    }\n",
       "\n",
       "    .dataframe tbody tr th {\n",
       "        vertical-align: top;\n",
       "    }\n",
       "\n",
       "    .dataframe thead th {\n",
       "        text-align: right;\n",
       "    }\n",
       "</style>\n",
       "<table border=\"1\" class=\"dataframe\">\n",
       "  <thead>\n",
       "    <tr style=\"text-align: right;\">\n",
       "      <th></th>\n",
       "      <th>total_amount</th>\n",
       "    </tr>\n",
       "  </thead>\n",
       "  <tbody>\n",
       "    <tr>\n",
       "      <th>count</th>\n",
       "      <td>574436.000000</td>\n",
       "    </tr>\n",
       "    <tr>\n",
       "      <th>mean</th>\n",
       "      <td>2960.087555</td>\n",
       "    </tr>\n",
       "    <tr>\n",
       "      <th>std</th>\n",
       "      <td>954.282731</td>\n",
       "    </tr>\n",
       "    <tr>\n",
       "      <th>min</th>\n",
       "      <td>698.000000</td>\n",
       "    </tr>\n",
       "    <tr>\n",
       "      <th>25%</th>\n",
       "      <td>2308.000000</td>\n",
       "    </tr>\n",
       "    <tr>\n",
       "      <th>50%</th>\n",
       "      <td>2808.000000</td>\n",
       "    </tr>\n",
       "    <tr>\n",
       "      <th>75%</th>\n",
       "      <td>3617.000000</td>\n",
       "    </tr>\n",
       "    <tr>\n",
       "      <th>max</th>\n",
       "      <td>5100.000000</td>\n",
       "    </tr>\n",
       "  </tbody>\n",
       "</table>\n",
       "</div>"
      ],
      "text/plain": [
       "        total_amount\n",
       "count  574436.000000\n",
       "mean     2960.087555\n",
       "std       954.282731\n",
       "min       698.000000\n",
       "25%      2308.000000\n",
       "50%      2808.000000\n",
       "75%      3617.000000\n",
       "max      5100.000000"
      ]
     },
     "execution_count": 19,
     "metadata": {},
     "output_type": "execute_result"
    }
   ],
   "source": [
    "# pizza チェーングループ全体の売り上げの統計データ\n",
    "analyze_data.describe()"
   ]
  },
  {
   "cell_type": "markdown",
   "id": "ced7c33b-60fa-4cc2-8895-3f5687e39e5d",
   "metadata": {},
   "source": [
    "# Nock 13: monthly data "
   ]
  },
  {
   "cell_type": "code",
   "execution_count": 21,
   "id": "46b3e5e4-5f04-440e-86df-316af9481ba4",
   "metadata": {},
   "outputs": [
    {
     "data": {
      "text/html": [
       "<div>\n",
       "<style scoped>\n",
       "    .dataframe tbody tr th:only-of-type {\n",
       "        vertical-align: middle;\n",
       "    }\n",
       "\n",
       "    .dataframe tbody tr th {\n",
       "        vertical-align: top;\n",
       "    }\n",
       "\n",
       "    .dataframe thead th {\n",
       "        text-align: right;\n",
       "    }\n",
       "</style>\n",
       "<table border=\"1\" class=\"dataframe\">\n",
       "  <thead>\n",
       "    <tr style=\"text-align: right;\">\n",
       "      <th></th>\n",
       "      <th>order_accept_date</th>\n",
       "      <th>order_accept_month</th>\n",
       "    </tr>\n",
       "  </thead>\n",
       "  <tbody>\n",
       "    <tr>\n",
       "      <th>0</th>\n",
       "      <td>2020-04-01 11:00:00</td>\n",
       "      <td>202004</td>\n",
       "    </tr>\n",
       "    <tr>\n",
       "      <th>1</th>\n",
       "      <td>2020-04-01 11:00:00</td>\n",
       "      <td>202004</td>\n",
       "    </tr>\n",
       "    <tr>\n",
       "      <th>2</th>\n",
       "      <td>2020-04-01 11:00:00</td>\n",
       "      <td>202004</td>\n",
       "    </tr>\n",
       "    <tr>\n",
       "      <th>3</th>\n",
       "      <td>2020-04-01 11:00:00</td>\n",
       "      <td>202004</td>\n",
       "    </tr>\n",
       "    <tr>\n",
       "      <th>4</th>\n",
       "      <td>2020-04-01 11:00:00</td>\n",
       "      <td>202004</td>\n",
       "    </tr>\n",
       "  </tbody>\n",
       "</table>\n",
       "</div>"
      ],
      "text/plain": [
       "    order_accept_date order_accept_month\n",
       "0 2020-04-01 11:00:00             202004\n",
       "1 2020-04-01 11:00:00             202004\n",
       "2 2020-04-01 11:00:00             202004\n",
       "3 2020-04-01 11:00:00             202004\n",
       "4 2020-04-01 11:00:00             202004"
      ]
     },
     "execution_count": 21,
     "metadata": {},
     "output_type": "execute_result"
    }
   ],
   "source": [
    "# change data type to datetime from object\n",
    "analyze_data['order_accept_date'] = pd.to_datetime(analyze_data['order_accept_date'])\n",
    "analyze_data['order_accept_month'] = analyze_data['order_accept_date'].dt.strftime('%Y%m')\n",
    "analyze_data[['order_accept_date', 'order_accept_month']].head()\n"
   ]
  },
  {
   "cell_type": "code",
   "execution_count": 23,
   "id": "ebc65a6b-1196-4521-bad4-5c9878fc8684",
   "metadata": {},
   "outputs": [
    {
     "data": {
      "text/plain": [
       "store_id                      object\n",
       "customer_id                   object\n",
       "coupon_cd                     object\n",
       "order_accept_date     datetime64[ns]\n",
       "delivered_date                object\n",
       "total_amount                   int64\n",
       "store_name                    object\n",
       "wide_area                     object\n",
       "narrow_area                   object\n",
       "takeout_name                  object\n",
       "status_name                   object\n",
       "order_accept_month            object\n",
       "dtype: object"
      ]
     },
     "execution_count": 23,
     "metadata": {},
     "output_type": "execute_result"
    }
   ],
   "source": [
    "analyze_data.dtypes"
   ]
  },
  {
   "cell_type": "code",
   "execution_count": 30,
   "id": "aebc64e3-30f4-47eb-83e3-868e43b12450",
   "metadata": {},
   "outputs": [
    {
     "data": {
      "text/html": [
       "<div>\n",
       "<style scoped>\n",
       "    .dataframe tbody tr th:only-of-type {\n",
       "        vertical-align: middle;\n",
       "    }\n",
       "\n",
       "    .dataframe tbody tr th {\n",
       "        vertical-align: top;\n",
       "    }\n",
       "\n",
       "    .dataframe thead th {\n",
       "        text-align: right;\n",
       "    }\n",
       "</style>\n",
       "<table border=\"1\" class=\"dataframe\">\n",
       "  <thead>\n",
       "    <tr style=\"text-align: right;\">\n",
       "      <th></th>\n",
       "      <th>count</th>\n",
       "      <th>mean</th>\n",
       "      <th>std</th>\n",
       "      <th>min</th>\n",
       "      <th>25%</th>\n",
       "      <th>50%</th>\n",
       "      <th>75%</th>\n",
       "      <th>max</th>\n",
       "    </tr>\n",
       "    <tr>\n",
       "      <th>order_accept_month</th>\n",
       "      <th></th>\n",
       "      <th></th>\n",
       "      <th></th>\n",
       "      <th></th>\n",
       "      <th></th>\n",
       "      <th></th>\n",
       "      <th></th>\n",
       "      <th></th>\n",
       "    </tr>\n",
       "  </thead>\n",
       "  <tbody>\n",
       "    <tr>\n",
       "      <th>202004</th>\n",
       "      <td>189414.0</td>\n",
       "      <td>2959.440638</td>\n",
       "      <td>954.271169</td>\n",
       "      <td>698.0</td>\n",
       "      <td>2308.0</td>\n",
       "      <td>2808.0</td>\n",
       "      <td>3586.0</td>\n",
       "      <td>5100.0</td>\n",
       "    </tr>\n",
       "    <tr>\n",
       "      <th>202005</th>\n",
       "      <td>195684.0</td>\n",
       "      <td>2960.327799</td>\n",
       "      <td>954.823248</td>\n",
       "      <td>698.0</td>\n",
       "      <td>2308.0</td>\n",
       "      <td>2808.0</td>\n",
       "      <td>3586.0</td>\n",
       "      <td>5100.0</td>\n",
       "    </tr>\n",
       "    <tr>\n",
       "      <th>202006</th>\n",
       "      <td>189338.0</td>\n",
       "      <td>2960.486437</td>\n",
       "      <td>953.740057</td>\n",
       "      <td>698.0</td>\n",
       "      <td>2308.0</td>\n",
       "      <td>2808.0</td>\n",
       "      <td>3617.0</td>\n",
       "      <td>5100.0</td>\n",
       "    </tr>\n",
       "  </tbody>\n",
       "</table>\n",
       "</div>"
      ],
      "text/plain": [
       "                       count         mean         std    min     25%     50%  \\\n",
       "order_accept_month                                                             \n",
       "202004              189414.0  2959.440638  954.271169  698.0  2308.0  2808.0   \n",
       "202005              195684.0  2960.327799  954.823248  698.0  2308.0  2808.0   \n",
       "202006              189338.0  2960.486437  953.740057  698.0  2308.0  2808.0   \n",
       "\n",
       "                       75%     max  \n",
       "order_accept_month                  \n",
       "202004              3586.0  5100.0  \n",
       "202005              3586.0  5100.0  \n",
       "202006              3617.0  5100.0  "
      ]
     },
     "execution_count": 30,
     "metadata": {},
     "output_type": "execute_result"
    }
   ],
   "source": [
    "month_data = analyze_data.groupby('order_accept_month')\n",
    "month_data['total_amount'].describe()"
   ]
  },
  {
   "cell_type": "code",
   "execution_count": 32,
   "id": "15307d9c-2349-4a1c-8f98-d1abfc71b4b7",
   "metadata": {},
   "outputs": [
    {
     "data": {
      "text/plain": [
       "order_accept_month\n",
       "202004    560559489\n",
       "202005    579288785\n",
       "202006    560532581\n",
       "Name: total_amount, dtype: int64"
      ]
     },
     "execution_count": 32,
     "metadata": {},
     "output_type": "execute_result"
    }
   ],
   "source": [
    "month_data['total_amount'].sum()"
   ]
  },
  {
   "cell_type": "markdown",
   "id": "470e2dfe-e7e7-4110-82a7-7592e8bcb3af",
   "metadata": {},
   "source": [
    "# Nock 14: visualize monthly data"
   ]
  },
  {
   "cell_type": "code",
   "execution_count": 33,
   "id": "2f9bf889-dc7e-4b4a-9510-749b2c701da6",
   "metadata": {},
   "outputs": [
    {
     "data": {
      "text/plain": [
       "<Axes: xlabel='order_accept_month'>"
      ]
     },
     "execution_count": 33,
     "metadata": {},
     "output_type": "execute_result"
    },
    {
     "data": {
      "image/png": "[encoded data removed]",
      "text/plain": [
       "<Figure size 640x480 with 1 Axes>"
      ]
     },
     "metadata": {},
     "output_type": "display_data"
    }
   ],
   "source": [
    "import matplotlib.pyplot as plt\n",
    "%matplotlib inline \n",
    "#月売上合計の推移\n",
    "month_data['total_amount'].sum().plot()"
   ]
  },
  {
   "cell_type": "code",
   "execution_count": 34,
   "id": "1db844c6-1265-48e6-ac3b-94c815e96fca",
   "metadata": {},
   "outputs": [
    {
     "data": {
      "text/plain": [
       "<Axes: xlabel='order_accept_month'>"
      ]
     },
     "execution_count": 34,
     "metadata": {},
     "output_type": "execute_result"
    },
    {
     "data": {
      "image/png": "[encoded data removed]",
      "text/plain": [
       "<Figure size 640x480 with 1 Axes>"
      ]
     },
     "metadata": {},
     "output_type": "display_data"
    }
   ],
   "source": [
    "# 平均の推移\n",
    "month_data['total_amount'].mean().plot()"
   ]
  },
  {
   "cell_type": "markdown",
   "id": "a9c5ae83-db7c-4b66-93a4-5d3c3409416f",
   "metadata": {},
   "source": [
    "# Nock 15: 売上からヒストグラムを作成する"
   ]
  },
  {
   "cell_type": "code",
   "execution_count": 35,
   "id": "c271a892-e576-44cd-9518-dc837a29957f",
   "metadata": {},
   "outputs": [
    {
     "data": {
      "text/plain": [
       "(array([ 21524.,      0.,  48969., 135664., 111217.,  77622.,  54146.,\n",
       "         59814.,  34394.,  31086.]),\n",
       " array([ 698. , 1138.2, 1578.4, 2018.6, 2458.8, 2899. , 3339.2, 3779.4,\n",
       "        4219.6, 4659.8, 5100. ]),\n",
       " <BarContainer object of 10 artists>)"
      ]
     },
     "execution_count": 35,
     "metadata": {},
     "output_type": "execute_result"
    },
    {
     "data": {
      "image/png": "[encoded data removed]",
      "text/plain": [
       "<Figure size 640x480 with 1 Axes>"
      ]
     },
     "metadata": {},
     "output_type": "display_data"
    }
   ],
   "source": [
    "plt.hist(analyze_data['total_amount'])"
   ]
  },
  {
   "cell_type": "code",
   "execution_count": 36,
   "id": "a2883e9e-1759-435e-8e61-b72bda739748",
   "metadata": {},
   "outputs": [
    {
     "data": {
      "text/plain": [
       "(array([10728., 10796.,     0.,     0.,     0., 48969., 45777., 78334.,\n",
       "        23175., 66451., 44368., 38745., 27653., 42503., 12508., 35285.,\n",
       "        23739., 11151., 23168., 22649.,  8437.]),\n",
       " array([ 698.        ,  907.61904762, 1117.23809524, 1326.85714286,\n",
       "        1536.47619048, 1746.0952381 , 1955.71428571, 2165.33333333,\n",
       "        2374.95238095, 2584.57142857, 2794.19047619, 3003.80952381,\n",
       "        3213.42857143, 3423.04761905, 3632.66666667, 3842.28571429,\n",
       "        4051.9047619 , 4261.52380952, 4471.14285714, 4680.76190476,\n",
       "        4890.38095238, 5100.        ]),\n",
       " <BarContainer object of 21 artists>)"
      ]
     },
     "execution_count": 36,
     "metadata": {},
     "output_type": "execute_result"
    },
    {
     "data": {
      "image/png": "[encoded data removed]",
      "text/plain": [
       "<Figure size 640x480 with 1 Axes>"
      ]
     },
     "metadata": {},
     "output_type": "display_data"
    }
   ],
   "source": [
    "plt.hist(analyze_data['total_amount'],bins=21)"
   ]
  },
  {
   "cell_type": "code",
   "execution_count": null,
   "id": "ad08cf96-37ba-4b13-9052-ad8318771940",
   "metadata": {},
   "outputs": [],
   "source": []
  }
 ],
 "metadata": {
  "kernelspec": {
   "display_name": "Python 3 (ipykernel)",
   "language": "python",
   "name": "python3"
  },
  "language_info": {
   "codemirror_mode": {
    "name": "ipython",
    "version": 3
   },
   "file_extension": ".py",
   "mimetype": "text/x-python",
   "name": "python",
   "nbconvert_exporter": "python",
   "pygments_lexer": "ipython3",
   "version": "3.11.6"
  }
 },
 "nbformat": 4,
 "nbformat_minor": 5
}
