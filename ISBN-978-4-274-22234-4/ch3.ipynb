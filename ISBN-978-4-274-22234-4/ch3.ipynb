{
 "cells": [
  {
   "cell_type": "markdown",
   "id": "bf889c80-930e-4344-b606-773df12a1730",
   "metadata": {},
   "source": [
    "# Ch3　Descriptive Statistics(記述統計)　~ 平均と分散"
   ]
  }
 ],
 "metadata": {
  "kernelspec": {
   "display_name": "Python 3 (ipykernel)",
   "language": "python",
   "name": "python3"
  },
  "language_info": {
   "codemirror_mode": {
    "name": "ipython",
    "version": 3
   },
   "file_extension": ".py",
   "mimetype": "text/x-python",
   "name": "python",
   "nbconvert_exporter": "python",
   "pygments_lexer": "ipython3",
   "version": "3.8.12"
  }
 },
 "nbformat": 4,
 "nbformat_minor": 5
}
