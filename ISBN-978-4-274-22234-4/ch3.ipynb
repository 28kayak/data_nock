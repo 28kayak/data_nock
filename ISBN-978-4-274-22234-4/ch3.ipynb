{
 "cells": [
  {
   "cell_type": "markdown",
   "id": "bf889c80-930e-4344-b606-773df12a1730",
   "metadata": {},
   "source": [
    "# Ch3　Descriptive Statistics(記述統計)　~ 平均と分散\n",
    "## Data の種類\n",
    "- 定性的データ(Qualitative Data)\n",
    "    - 名義尺度\n",
    "    - 順序尺度\n",
    "- 定量的データ(Quontative Data)\n",
    "    - 間隔尺度\n",
    "    - 比較尺度\n",
    "    \n",
    "## 平均の種類\n",
    "- 算術平均 (arithmetic `mean`)\n",
    "- 中央値 (median)\n",
    "- 最頻値(mode)\n",
    "- 幾何学平均 (geometirc mean)\n",
    "- 調整平均 (Trim mean)"
   ]
  },
  {
   "cell_type": "code",
   "execution_count": 1,
   "id": "344a1aff-50ce-4f85-b0aa-7b28b62c5d4a",
   "metadata": {},
   "outputs": [
    {
     "name": "stdout",
     "output_type": "stream",
     "text": [
      "174.00999999999996\n"
     ]
    }
   ],
   "source": [
    "# 算術平均 (arithmetic mean) without package\n",
    "heights = [168.3, 179.2, 165.8, 170.5, 188.2, 174.6, 162.8, 175.5, 178.1, 177.1]\n",
    "ave = sum(heights)/len(heights)\n",
    "print(ave)"
   ]
  },
  {
   "cell_type": "code",
   "execution_count": 2,
   "id": "43c46625-7fa5-4169-b6d3-5793f2e8d17d",
   "metadata": {},
   "outputs": [
    {
     "name": "stdout",
     "output_type": "stream",
     "text": [
      "174.01\n"
     ]
    }
   ],
   "source": [
    "# 算術平均 (arithmetic mean) with package\n",
    "import statistics \n",
    "heights = [168.3, 179.2, 165.8, 170.5, 188.2, 174.6, 162.8, 175.5, 178.1, 177.1]\n",
    "ave = statistics.mean(heights)\n",
    "print(ave)"
   ]
  },
  {
   "cell_type": "code",
   "execution_count": 6,
   "id": "2b534bd4-14c0-44cf-bbda-3eaaeda7068f",
   "metadata": {},
   "outputs": [
    {
     "name": "stdout",
     "output_type": "stream",
     "text": [
      "median 175.05\n",
      "mode 168.3\n"
     ]
    }
   ],
   "source": [
    "# Median and Mode\n",
    "from statistics import median, mode\n",
    "heights = [168.3, 179.2, 165.8, 170.5, 188.2, 174.6, 162.8, 175.5, 178.1, 177.1]\n",
    "print('median', median(heights))\n",
    "print('mode', mode(heights))"
   ]
  },
  {
   "cell_type": "code",
   "execution_count": 8,
   "id": "ece090d9-f88c-40fe-b4a1-ba8f8334693f",
   "metadata": {},
   "outputs": [
    {
     "name": "stdout",
     "output_type": "stream",
     "text": [
      "geometirc mean 173.86849269065902\n"
     ]
    }
   ],
   "source": [
    "# geometirc mean\n",
    "from statistics import geometric_mean\n",
    "heights = [168.3, 179.2, 165.8, 170.5, 188.2, 174.6, 162.8, 175.5, 178.1, 177.1]\n",
    "print('geometirc mean', geometric_mean(heights))"
   ]
  },
  {
   "cell_type": "code",
   "execution_count": 10,
   "id": "46e68e80-2ab1-4468-aed9-7de82732f599",
   "metadata": {},
   "outputs": [
    {
     "name": "stdout",
     "output_type": "stream",
     "text": [
      "trim_mean 173.6375\n",
      "trim_mean 174.01666666666665\n"
     ]
    }
   ],
   "source": [
    "# trim mean\n",
    "from scipy import stats\n",
    "heights = [168.3, 179.2, 165.8, 170.5, 188.2, 174.6, 162.8, 175.5, 178.1, 177.1]\n",
    "print('trim_mean 0.1', stats.trim_mean(heights, 0.1))\n",
    "print('trim_mean 0.2', stats.trim_mean(heights, 0.2))"
   ]
  },
  {
   "cell_type": "markdown",
   "id": "9e7a3842-59bb-4efc-b870-c73b218aee76",
   "metadata": {},
   "source": [
    "# 3.3 頻度分布・分散・偏差\n",
    "\n"
   ]
  },
  {
   "cell_type": "markdown",
   "id": "f8b87d35",
   "metadata": {},
   "source": [
    "## スタージェスの指揮\n",
    "$$\n",
    "階級数の目安 = 1 + log_(n)(n)\n",
    "$$\n",
    "\n",
    "##　分散\n",
    "分散は、データの散らばり具合を一つの指標で表す値で、個々のデータ $x_{i}$ と算術平均 の差の和をデータの個数で割った値\n",
    "## 標準偏差\n",
    "標準偏差 = $\\sqrt{分散}$\n",
    "\n",
    "分散はデータの二乗に基づいて計算しているので、値が２倍になれば分散は、４倍になる。\n",
    "一方で、標準偏差は、そのルートをとっているので、値と同じ様に２倍になる。\n",
    "\n",
    "## チェビシェフの不等式"
   ]
  },
  {
   "cell_type": "code",
   "execution_count": 3,
   "id": "74b0b568",
   "metadata": {},
   "outputs": [
    {
     "name": "stdout",
     "output_type": "stream",
     "text": [
      "[0.  0.2 0.4 0.6 0.8 1.  1.2 1.4 1.6 1.8 2.  2.2 2.4 2.6 2.8 3.  3.2 3.4\n",
      " 3.6 3.8 4.  4.2 4.4 4.6 4.8]\n"
     ]
    },
    {
     "data": {
      "image/png": "[encoded data removed]",
      "text/plain": [
       "<Figure size 432x288 with 1 Axes>"
      ]
     },
     "metadata": {
      "needs_background": "light"
     },
     "output_type": "display_data"
    }
   ],
   "source": [
    "%matplotlib inline\n",
    "import numpy as np\n",
    "import matplotlib.pyplot as plt\n",
    "\n",
    "t = np.arange(0., 5., 0.2)#set of values between 0 and 5, increment by 0.2\n",
    "print(t)\n",
    "plt.title(\"drawing sample\")\n",
    "plt.plot(t, t, 'r--', label=\"liner\") #r=red\n",
    "plt.plot(t, t**2, 'bs', label='square') #b=blue s=square\n",
    "plt.plot(t, t**3, 'g^', label='cube') #g=green ^=triangle \n",
    "plt.xlabel('x values')\n",
    "plt.ylabel('y values')\n",
    "plt.legend() # create legend \n",
    "plt.show()"
   ]
  }
 ],
 "metadata": {
  "kernelspec": {
   "display_name": "Python 3 (ipykernel)",
   "language": "python",
   "name": "python3"
  },
  "language_info": {
   "codemirror_mode": {
    "name": "ipython",
    "version": 3
   },
   "file_extension": ".py",
   "mimetype": "text/x-python",
   "name": "python",
   "nbconvert_exporter": "python",
   "pygments_lexer": "ipython3",
   "version": "3.7.4"
  }
 },
 "nbformat": 4,
 "nbformat_minor": 5
}
