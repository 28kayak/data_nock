{
 "cells": [
  {
   "cell_type": "code",
   "execution_count": 3,
   "id": "08caade5-942c-437b-ac4a-85e84dfa25ee",
   "metadata": {},
   "outputs": [
    {
     "ename": "SyntaxError",
     "evalue": "invalid syntax (971334086.py, line 4)",
     "output_type": "error",
     "traceback": [
      "\u001b[0;36m  File \u001b[0;32m\"/var/folders/fc/n5z0ppl167b2png0pt06_3w40000gn/T/ipykernel_5705/971334086.py\"\u001b[0;36m, line \u001b[0;32m4\u001b[0m\n\u001b[0;31m    import scikit-lean\u001b[0m\n\u001b[0m                 ^\u001b[0m\n\u001b[0;31mSyntaxError\u001b[0m\u001b[0;31m:\u001b[0m invalid syntax\n"
     ]
    }
   ],
   "source": [
    "import matplotlib\n",
    "import scipy\n",
    "import numpy\n",
    "#import scikit-lean\n",
    "import statsmodels\n",
    "#import factor_analyzer"
   ]
  },
  {
   "cell_type": "code",
   "execution_count": 10,
   "id": "6f5a300d-5064-445b-93cd-5a94344edfb9",
   "metadata": {},
   "outputs": [
    {
     "name": "stdout",
     "output_type": "stream",
     "text": [
      "0.0033960342407226562 sec\n",
      "0.0006699562072753906 sec\n"
     ]
    }
   ],
   "source": [
    "# Example Program to show the performance diff\n",
    "import time \n",
    "def sample_loop(n):\n",
    "    r = []\n",
    "    for i in range(n): \n",
    "        r.append(i)\n",
    "    return r\n",
    "def sample_comprehension(n):\n",
    "    return [i for i in range(n)]\n",
    "start = time.time()\n",
    "sample_loop(10000)\n",
    "print(time.time() - start, 'sec')\n",
    "start = time.time()\n",
    "sample_comprehension(10000)\n",
    "print(time.time() - start, 'sec')\n",
    "\n",
    "### \n",
    "# appends method needs more time to get value from list \n",
    "# appends method needs more time to invoke it as a method"
   ]
  },
  {
   "cell_type": "code",
   "execution_count": 8,
   "id": "fbde2aea-8a82-41af-b2d4-478e1da96652",
   "metadata": {},
   "outputs": [
    {
     "name": "stdout",
     "output_type": "stream",
     "text": [
      "0 東京\n",
      "1 大阪\n",
      "2 福岡\n"
     ]
    }
   ],
   "source": [
    "input = ['東京', '大阪', '福岡']\n",
    "for index, value in enumerate(input):\n",
    "    # it can get index and value at the same time\n",
    "    print(index, value)"
   ]
  },
  {
   "cell_type": "code",
   "execution_count": 9,
   "id": "21403e18-83ef-47cc-a0dd-ccc159392e13",
   "metadata": {},
   "outputs": [
    {
     "name": "stdout",
     "output_type": "stream",
     "text": [
      "('東京タワー', 330)\n",
      "('通天閣', 108)\n",
      "('名古屋テレビ塔', 180)\n"
     ]
    }
   ],
   "source": [
    "towers = ['東京タワー', '通天閣', '名古屋テレビ塔']\n",
    "heights = [330, 108, 180]\n",
    "for u in zip(towers, heights):\n",
    "    print(u)\n",
    "    \n",
    "# zip methond allows two lists have innver dependency"
   ]
  },
  {
   "cell_type": "markdown",
   "id": "fc8faa6d-e2cb-4ca6-9291-d6867612cc19",
   "metadata": {},
   "source": [
    "# 2.1.5 Lambda function\n",
    "Lambda function allows you to create a small function as anonymous.\n",
    "if you have a list like below, then what if you want to sort by height? \n",
    "```\n",
    "p = [['東京タワー', 330], ['通天閣',108],['名古屋テレビ塔',180]]\n",
    "```\n",
    "Let's try to use `sort` function on the `p`"
   ]
  },
  {
   "cell_type": "code",
   "execution_count": 25,
   "id": "93f8e484-becb-4392-9c0c-5e4864569778",
   "metadata": {},
   "outputs": [
    {
     "data": {
      "text/plain": [
       "[['通天閣', 108], ['東京タワー', 330], ['名古屋テレビ塔', 180]]"
      ]
     },
     "execution_count": 25,
     "metadata": {},
     "output_type": "execute_result"
    }
   ],
   "source": [
    "p = [['東京タワー', 330], ['通天閣',108],['名古屋テレビ塔',180]]\n",
    "p.sort(reverse=True)\n",
    "p"
   ]
  },
  {
   "cell_type": "code",
   "execution_count": 19,
   "id": "0c634da2-48e3-43e2-b5af-849e9cc46f71",
   "metadata": {},
   "outputs": [
    {
     "data": {
      "text/plain": [
       "[['通天閣', 108], ['名古屋テレビ塔', 180], ['東京タワー', 330]]"
      ]
     },
     "execution_count": 19,
     "metadata": {},
     "output_type": "execute_result"
    }
   ],
   "source": [
    "# without Lambda function\n",
    "def extract_height(u):\n",
    "    return u[1]\n",
    "p = [['東京タワー', 330], ['通天閣',108],['名古屋テレビ塔',180]]\n",
    "q = sorted(p, key=extract_height)\n",
    "q"
   ]
  },
  {
   "cell_type": "code",
   "execution_count": 17,
   "id": "4e6efc4c-bb3d-4a37-b93a-71036ddc5c03",
   "metadata": {},
   "outputs": [
    {
     "data": {
      "text/plain": [
       "[['通天閣', 108], ['名古屋テレビ塔', 180], ['東京タワー', 330]]"
      ]
     },
     "execution_count": 17,
     "metadata": {},
     "output_type": "execute_result"
    }
   ],
   "source": [
    "# with Lambda function\n",
    "p = [['東京タワー', 330], ['通天閣',108],['名古屋テレビ塔',180]]\n",
    "q = sorted(p, key=lambda u: u[1])\n",
    "q"
   ]
  },
  {
   "cell_type": "code",
   "execution_count": 26,
   "id": "a6443e70-562d-495b-a81c-c083977f6921",
   "metadata": {},
   "outputs": [
    {
     "name": "stdout",
     "output_type": "stream",
     "text": [
      "[('通天閣', 108), ('名古屋テレビ塔', 180), ('東京タワー', 330)]\n"
     ]
    }
   ],
   "source": [
    "dic = {'東京タワー':330, '通天閣':108, '名古屋テレビ塔':180}\n",
    "print(sorted(dic.items(), key=lambda u:u[1]))\n",
    "# parameter key for sorted method indicates that use u[1](second attribute) to sort."
   ]
  },
  {
   "cell_type": "code",
   "execution_count": 27,
   "id": "3bd1a22b-6b15-4e52-abcc-f7558b03b1e9",
   "metadata": {},
   "outputs": [
    {
     "name": "stdout",
     "output_type": "stream",
     "text": [
      "[('東京タワー', 330), ('名古屋テレビ塔', 180), ('通天閣', 108)]\n"
     ]
    }
   ],
   "source": [
    "print(sorted(dic.items(), key=lambda u:u[1], reverse=True))"
   ]
  },
  {
   "cell_type": "code",
   "execution_count": null,
   "id": "4fb0e395-3a3b-4f4f-a9ef-960bc2f9ac70",
   "metadata": {},
   "outputs": [],
   "source": []
  }
 ],
 "metadata": {
  "kernelspec": {
   "display_name": "Python 3 (ipykernel)",
   "language": "python",
   "name": "python3"
  },
  "language_info": {
   "codemirror_mode": {
    "name": "ipython",
    "version": 3
   },
   "file_extension": ".py",
   "mimetype": "text/x-python",
   "name": "python",
   "nbconvert_exporter": "python",
   "pygments_lexer": "ipython3",
   "version": "3.8.12"
  }
 },
 "nbformat": 4,
 "nbformat_minor": 5
}
